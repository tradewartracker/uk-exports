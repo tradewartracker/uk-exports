{
 "cells": [
  {
   "cell_type": "code",
   "execution_count": 169,
   "metadata": {},
   "outputs": [],
   "source": [
    "import pandas as pd             # data package\n",
    "import matplotlib.pyplot as plt # graphics \n",
    "import datetime as dt\n",
    "import numpy as np\n",
    "from census import Census # This is new...\n",
    "\n",
    "import requests, io             # internet and input tools  \n",
    "import zipfile as zf            # zip file tools \n",
    "import os  \n",
    "\n",
    "#import weightedcalcs as wc\n",
    "#import numpy as np\n",
    "\n",
    "import pyarrow as pa\n",
    "import pyarrow.parquet as pq"
   ]
  },
  {
   "cell_type": "code",
   "execution_count": 170,
   "metadata": {},
   "outputs": [],
   "source": [
    "#https://www.ons.gov.uk/economy/nationalaccounts/balanceofpayments/datasets/uktradecountrybycommodityexports\n",
    "\n",
    "url = \"https://www.ons.gov.uk/file?uri=%2feconomy%2fnationalaccounts%2fbalanceofpayments%2fdatasets%2fuktradecountrybycommodityexports%2fcurrent/countrybycommodityexports1.zip\""
   ]
  },
  {
   "cell_type": "code",
   "execution_count": 171,
   "metadata": {},
   "outputs": [],
   "source": [
    "r = requests.get(url) \n",
    "\n",
    "brexit_FEB21 = zf.ZipFile(io.BytesIO(r.content))\n",
    "\n",
    "brexit_FEB21.extractall(\".\\\\data\")\n",
    "\n",
    "filename = brexit_FEB21.namelist()"
   ]
  },
  {
   "cell_type": "code",
   "execution_count": null,
   "metadata": {},
   "outputs": [],
   "source": [
    "df = pd.read_excel(\".\\\\data\" + \"\\\\\" + filename[0], sheet_name= \"Country by Commodity Export\")"
   ]
  },
  {
   "cell_type": "code",
   "execution_count": null,
   "metadata": {},
   "outputs": [],
   "source": [
    "df.head()"
   ]
  },
  {
   "cell_type": "code",
   "execution_count": null,
   "metadata": {},
   "outputs": [],
   "source": [
    "df = df.melt(id_vars = [\"COMMODITY\", \"COUNTRY\", \"DIRECTION\"])\n",
    "\n",
    "df.drop(\"DIRECTION\", axis = 1, inplace = True)\n",
    "\n",
    "df.variable= pd.to_datetime(df.variable, format=\"%Y%b\")\n",
    "\n",
    "df.rename({\"variable\":\"time\", \"value\": \"exports\"},inplace = True, axis = 1)\n",
    "\n",
    "df.COUNTRY = df.COUNTRY.str[3:]\n",
    "\n",
    "df.exports = df.exports*1000000"
   ]
  },
  {
   "cell_type": "code",
   "execution_count": null,
   "metadata": {},
   "outputs": [],
   "source": [
    "grp = df[df.COMMODITY == 'T Total'].groupby(\"COUNTRY\")\n",
    "\n",
    "test = grp.agg({\"exports\": \"sum\"})"
   ]
  },
  {
   "cell_type": "code",
   "execution_count": null,
   "metadata": {},
   "outputs": [],
   "source": [
    "topcntry = test.sort_values(by = \"exports\", ascending = False).iloc[0:23].index.to_list()"
   ]
  },
  {
   "cell_type": "code",
   "execution_count": null,
   "metadata": {},
   "outputs": [],
   "source": [
    "df = df[df.COUNTRY.isin(topcntry)]"
   ]
  },
  {
   "cell_type": "code",
   "execution_count": null,
   "metadata": {},
   "outputs": [],
   "source": [
    "df.COMMODITY.replace({\"T Total\": \"Total\"}, inplace = True)\n",
    "df.COUNTRY.replace({\"United States inc Puerto Rico\": \"United States\"}, inplace = True)\n",
    "df.COUNTRY.replace({\"Extra EU 28 (Rest of World)\": \"Excl. EU 28 (Rest of World)\"}, inplace = True)"
   ]
  },
  {
   "cell_type": "code",
   "execution_count": null,
   "metadata": {},
   "outputs": [],
   "source": [
    "df"
   ]
  },
  {
   "cell_type": "code",
   "execution_count": null,
   "metadata": {},
   "outputs": [],
   "source": [
    "grp = df.groupby([\"COUNTRY\"])"
   ]
  },
  {
   "cell_type": "code",
   "execution_count": null,
   "metadata": {},
   "outputs": [],
   "source": [
    "def ex_metal_total(df):\n",
    "        \n",
    "    if not (df[df[\"COMMODITY\"] == \"9 Unspecified goods\"].empty):\n",
    "                \n",
    "        foo = pd.DataFrame([])\n",
    "\n",
    "        fooall = df[df[\"COMMODITY\"] == \"Total\"].set_index([\"time\"])[\"exports\"] \n",
    "        \n",
    "        foobar = df[df[\"COMMODITY\"] == \"9 Unspecified goods\"].set_index([\"time\"])[\"exports\"]\n",
    "\n",
    "        foo[\"exports\"] = fooall - foobar\n",
    "    # Grab the total and then sbutract off the unspecified goods\n",
    "    \n",
    "        foo[\"COUNTRY\"] = df.COUNTRY.unique()[0]\n",
    "    \n",
    "        #print(df.COUNTRY.unique())\n",
    "    \n",
    "        foo[\"COMMODITY\"] = \"Total (ex. metals)\"\n",
    "        \n",
    "        foo.reset_index(inplace = True)\n",
    "        \n",
    "        foo[df.columns]\n",
    "        \n",
    "        df = df.append(foo)\n",
    "    \n",
    "    return df"
   ]
  },
  {
   "cell_type": "code",
   "execution_count": null,
   "metadata": {},
   "outputs": [],
   "source": [
    "df = grp.apply(ex_metal_total)"
   ]
  },
  {
   "cell_type": "code",
   "execution_count": null,
   "metadata": {},
   "outputs": [],
   "source": [
    "df.drop([\"COUNTRY\"], axis = 1, inplace = True)\n",
    "\n",
    "df.reset_index(inplace = True)\n",
    "\n",
    "df.drop([\"level_1\"], axis = 1, inplace = True)"
   ]
  },
  {
   "cell_type": "code",
   "execution_count": null,
   "metadata": {},
   "outputs": [],
   "source": [
    "file = \".\\\\data\"+ \"\\\\UK-exports-1997-2017.parquet\"\n",
    "\n",
    "foo = pq.read_table(file).to_pandas()"
   ]
  },
  {
   "cell_type": "code",
   "execution_count": null,
   "metadata": {},
   "outputs": [],
   "source": [
    "df = df.append(foo) #add the historical data"
   ]
  },
  {
   "cell_type": "code",
   "execution_count": null,
   "metadata": {},
   "outputs": [],
   "source": [
    "df"
   ]
  },
  {
   "cell_type": "code",
   "execution_count": null,
   "metadata": {},
   "outputs": [],
   "source": [
    "df.set_index([\"COUNTRY\", \"COMMODITY\", \"time\"], inplace = True)"
   ]
  },
  {
   "cell_type": "code",
   "execution_count": null,
   "metadata": {},
   "outputs": [],
   "source": [
    "df.sort_index(inplace = True)\n",
    "\n",
    "df.tail()"
   ]
  },
  {
   "cell_type": "code",
   "execution_count": null,
   "metadata": {},
   "outputs": [],
   "source": [
    "df.head()"
   ]
  },
  {
   "cell_type": "code",
   "execution_count": null,
   "metadata": {},
   "outputs": [],
   "source": [
    "out_file = \".\\\\data\"+ \"\\\\UK-exports.parquet\"\n",
    "\n",
    "pq.write_table(pa.Table.from_pandas(df), out_file)"
   ]
  },
  {
   "cell_type": "code",
   "execution_count": null,
   "metadata": {},
   "outputs": [],
   "source": [
    "file = \".\\\\data\"+ \"\\\\UK-exports.parquet\"\n",
    "\n",
    "foo = pq.read_table(file).to_pandas()"
   ]
  },
  {
   "cell_type": "code",
   "execution_count": null,
   "metadata": {},
   "outputs": [],
   "source": [
    "foo.head()"
   ]
  },
  {
   "cell_type": "code",
   "execution_count": null,
   "metadata": {},
   "outputs": [],
   "source": []
  }
 ],
 "metadata": {
  "kernelspec": {
   "display_name": "Python 3",
   "language": "python",
   "name": "python3"
  },
  "language_info": {
   "codemirror_mode": {
    "name": "ipython",
    "version": 3
   },
   "file_extension": ".py",
   "mimetype": "text/x-python",
   "name": "python",
   "nbconvert_exporter": "python",
   "pygments_lexer": "ipython3",
   "version": "3.7.3"
  }
 },
 "nbformat": 4,
 "nbformat_minor": 4
}
